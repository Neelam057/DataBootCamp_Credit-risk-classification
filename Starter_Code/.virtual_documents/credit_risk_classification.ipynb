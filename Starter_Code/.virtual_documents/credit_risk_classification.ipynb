# Import the required modules
import pandas as pd
pd.set_option('display.max_columns', None)
import numpy as np

# visualization
import matplotlib.pyplot as plt
import seaborn as sns

# Machine Learning
from sklearn.linear_model import LogisticRegression
from sklearn.tree import DecisionTreeClassifier
from sklearn.ensemble import RandomForestClassifier, AdaBoostClassifier, ExtraTreesClassifier, GradientBoostingClassifier
from sklearn.svm import SVC
from sklearn.neighbors import KNeighborsClassifier

# Metrics
from sklearn.metrics import confusion_matrix, classification_report, roc_auc_score, roc_curve, RocCurveDisplay

# Preprocessing
from sklearn.preprocessing import StandardScaler, MinMaxScaler, OneHotEncoder, OrdinalEncoder
from sklearn.model_selection import train_test_split

# suppress warnings
import warnings
warnings.filterwarnings('ignore')











# Read the CSV file from the Resources folder into a Pandas DataFrame
lending_data_df = pd.read_csv('Resources/lending_data.csv')


# Review the DataFrame
lending_data_df.head()


lending_data_df.info()


lending_data_df.describe()


lending_data_df.loan_status.value_counts()






#Feature Selection
# Correlation Analysis
corr = lending_data_df.corr()
corr


sns.heatmap(corr, annot=True)
plt.show()








lending_data_df.columns


num_cols = ['loan_size', 'interest_rate', 'borrower_income', 'debt_to_income',
       'num_of_accounts', 'derogatory_marks', 'total_debt']

# Initalize and Fit the Scaler
ss = StandardScaler()
ss.fit(lending_data_df.loc[:, num_cols])

# Transform the Data
lending_data_df_scaled = pd.DataFrame(ss.transform(lending_data_df.loc[:, num_cols]), columns=num_cols)
lending_data_df_scaled.head()


lending_data_df_scaled.describe()





# Separate the data into labels and features
# Separate the y variable, the labels
y = lending_data_df.loan_status

# Separate the X variable, the features
X = lending_data_df_scaled



# Review the y variable Series
print(y.head())
print(y.value_counts())


# Review the X variable DataFrame
print(X.shape)






# Split the data using train_test_split
# Assign a random_state of 1 to the function

# Split the data into training and testing sets
X_train, X_test, y_train, y_test = train_test_split(X, y, test_size=0.25, random_state=1, stratify=y) # stratify ensures same % of the target classes in the train/test



print(X_train.shape)
print(X_test.shape)











# Instantiate the Logistic Regression model
lr = LogisticRegression(random_state=1)  # random_state for reproducibility (optional)

# Fit the model using training data (X_train and y_train)
lr.fit(X_train, y_train)






# Make a prediction using the testing data
test_preds = lr.predict(X_test)
test_proba = lr.predict_proba(X_test)[:, 1]  # Probabilities for class 1





# Generate metrics for TRAIN
train_preds = lr.predict(X_train)
train_proba = lr.predict_proba(X_train)[:, 1]
train_cf = confusion_matrix(y_train, train_preds)
train_cr = classification_report(y_train, train_preds)
train_auc = roc_auc_score(y_train, train_proba)

train_results = f"""TRAIN METRICS
Confusion Matrix: 
{train_cf}

AUC: {train_auc}

Classification Report:
{train_cr}
"""
print(train_results)

# Generate metrics for TEST
test_cf = confusion_matrix(y_test, test_preds)
test_cr = classification_report(y_test, test_preds)
test_auc = roc_auc_score(y_test, test_proba)

test_results = f"""TEST METRICS
Confusion Matrix: 
{test_cf}

AUC: {test_auc}

Classification Report:
{test_cr}
"""
print(test_results)


# Visualize the Confusion Matrix for TEST
plt.figure(figsize=(4, 4))
sns.heatmap(test_cf, annot=True, fmt='d', cmap='Blues', cbar=False,
            xticklabels=['Predicted Negative', 'Predicted Positive'],
            yticklabels=['Actual Negative', 'Actual Positive'])
plt.title('Confusion Matrix')
plt.xlabel('Predicted Label')
plt.ylabel('True Label')
plt.show()

# Visualize the ROC Curve for TEST
fpr, tpr, _ = roc_curve(y_test, test_proba)

plt.figure(figsize=(6, 6))
plt.plot(fpr, tpr, color='blue', lw=2, label=f'ROC curve (area = {test_auc:.2f})')
plt.plot([0, 1], [0, 1], color='gray', linestyle='--')
plt.title('Receiver Operating Characteristic (ROC) Curve')
plt.xlabel('False Positive Rate')
plt.ylabel('True Positive Rate')
plt.grid(linestyle="--", color="lightgrey", alpha=0.75)
plt.legend(loc="lower right")
plt.show()













